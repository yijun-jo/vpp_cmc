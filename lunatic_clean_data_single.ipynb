{
 "cells": [
  {
   "cell_type": "markdown",
   "id": "d31d6b47-2187-442f-8682-6458e8075bf2",
   "metadata": {},
   "source": [
    "# Lunatic data extraction\n",
    "\n",
    "* Code assumes the lunatic report contains both \"Concentration (mg/mL)\" and wavelength scanning results.\n",
    "* Please specify input file path and output folder path before running the code. "
   ]
  },
  {
   "cell_type": "markdown",
   "id": "b5a7db11-39e2-4d15-a241-54edc6259bbe",
   "metadata": {},
   "source": [
    "## Prepare coding environment"
   ]
  },
  {
   "cell_type": "code",
   "execution_count": 3,
   "id": "2a3c653b-f0c5-4d99-8e34-eb5b08521ee1",
   "metadata": {},
   "outputs": [],
   "source": [
    "import pandas as pd"
   ]
  },
  {
   "cell_type": "markdown",
   "id": "3c9cc2cc-31f2-480c-a920-7fc14d1ea4c2",
   "metadata": {},
   "source": [
    "## Prepare filepaths"
   ]
  },
  {
   "cell_type": "code",
   "execution_count": 5,
   "id": "a98c7a18-5da8-4570-8196-836c95fb9db5",
   "metadata": {},
   "outputs": [],
   "source": [
    "# Input file path\n",
    "lunatic_report = './example_data/2024-10-31_122352_401285_DPD__Mumps_IL_PreFHN_AEX_screen1 pH 6.5 plate1.xlsx'\n",
    "\n",
    "# Establish file saving paths\n",
    "output_folder_path = './output/'\n",
    "scan_filepath = output_folder_path + 'wavelength_scan.csv'\n",
    "con_filepath = output_folder_path + 'concentration.csv'"
   ]
  },
  {
   "cell_type": "markdown",
   "id": "8eb2ebcb-f62d-4129-9d94-6918dbf24ec4",
   "metadata": {},
   "source": [
    "## Clean data"
   ]
  },
  {
   "cell_type": "code",
   "execution_count": 7,
   "id": "4458aef9-2d52-4fd8-bf1b-e6e1eb663202",
   "metadata": {},
   "outputs": [],
   "source": [
    "df = pd.read_excel(lunatic_report)\n",
    "\n",
    "# Clean out metadata above \"Plate ID\" in column 1\n",
    "index = df[df['Report'].astype(str).str.contains('Plate ID', na=False)].index[0] # Find the index of the row where 'Plate ID' appears in column 1\n",
    "filtered_df = df.loc[index:] # Filter out all rows above the found index\n",
    "    \n",
    "# Use the first row as the header and drop it from the data\n",
    "filtered_df.columns = filtered_df.iloc[0]  # Set the first row as the header\n",
    "filtered_df = filtered_df.drop(index)          # Drop the first row now that it is used as the header\n",
    "filtered_df = filtered_df.reset_index(drop=True) # Reset the index to start from 0"
   ]
  },
  {
   "cell_type": "markdown",
   "id": "4f1fea91-3c95-4674-887d-54621a6d29fc",
   "metadata": {},
   "source": [
    "## Create functions to extract data"
   ]
  },
  {
   "cell_type": "code",
   "execution_count": 9,
   "id": "c5445a65-73b3-4e3c-80a1-fb4610b79e6b",
   "metadata": {},
   "outputs": [],
   "source": [
    "# create a function to extract \"Concentration (mg/mL)\" from .csv files\n",
    "def extract_con(df):\n",
    "    # Extract columns 'Plate\\nPosition' and 'Concentration\\n(mg/ml)'\n",
    "    reseted_df = df[['Plate\\nPosition', 'Concentration\\n(mg/ml)']]\n",
    "    con_df = reseted_df.rename(columns={\n",
    "        'Plate\\nPosition': 'PlatePosition',\n",
    "        'Concentration\\n(mg/ml)': 'Concentration(mg/mL)',\n",
    "    })\n",
    "    \n",
    "    pd.set_option('future.no_silent_downcasting', True) # future-proof the code related to how panda handles downcasting\n",
    "    con_df = con_df.infer_objects(copy=False) # ensure the object columns are inferred correctly without silent downcasting\n",
    "    \n",
    "    con_df = con_df.fillna(\"N/A\")\n",
    "\n",
    "    return con_df"
   ]
  },
  {
   "cell_type": "code",
   "execution_count": 10,
   "id": "ac625a91-da47-4cbe-96e6-54863e96357b",
   "metadata": {},
   "outputs": [],
   "source": [
    "# create a function to extract wavelength scanning data from column 11 to column 231\n",
    "def extract_scan (df):\n",
    "    scan_df = df.iloc[:, 10:231]  # Use 10 because slicing in Python excludes the endpoint\n",
    "    scan_df.columns = scan_df.columns.str.slice(1, 4) # Use the 2nd to 4th characters of each column name as the new header\n",
    "    scan_df = scan_df.apply(pd.to_numeric) # make the entire dataframe numeric\n",
    "    \n",
    "    # Extract column 2 (index 1)\n",
    "    plate_position = filtered_df.iloc[:, 1]\n",
    "\n",
    "    # Add column 2 to scan_df\n",
    "    scan_df = pd.concat([plate_position, scan_df], axis=1)\n",
    "    scan_df = scan_df.rename(columns={\n",
    "        'Plate\\nPosition': 'PlatePosition'\n",
    "    })\n",
    "    return scan_df"
   ]
  },
  {
   "cell_type": "markdown",
   "id": "b70acf2b-eee4-41c2-962a-e724893989f3",
   "metadata": {},
   "source": [
    "## Extract data"
   ]
  },
  {
   "cell_type": "code",
   "execution_count": 12,
   "id": "d99b3a6e-5d89-4cd9-aa57-0a05a3f0ea9d",
   "metadata": {},
   "outputs": [],
   "source": [
    "con_df = extract_con(filtered_df)\n",
    "scan_df = extract_scan(filtered_df)"
   ]
  },
  {
   "cell_type": "markdown",
   "id": "ba113f44-95a3-467b-b872-c89052e39ffb",
   "metadata": {},
   "source": [
    "## Save dataframes to .csv"
   ]
  },
  {
   "cell_type": "code",
   "execution_count": 14,
   "id": "fa37dbed-26c1-4d76-8100-19fc0a2fcc26",
   "metadata": {},
   "outputs": [
    {
     "name": "stdout",
     "output_type": "stream",
     "text": [
      "Data extraction successful!\n"
     ]
    }
   ],
   "source": [
    "con_df.to_csv(con_filepath, index=False)\n",
    "scan_df.to_csv(scan_filepath, index=False)\n",
    "\n",
    "print ('Data extraction successful!')"
   ]
  }
 ],
 "metadata": {
  "kernelspec": {
   "display_name": "Python 3 (ipykernel)",
   "language": "python",
   "name": "python3"
  },
  "language_info": {
   "codemirror_mode": {
    "name": "ipython",
    "version": 3
   },
   "file_extension": ".py",
   "mimetype": "text/x-python",
   "name": "python",
   "nbconvert_exporter": "python",
   "pygments_lexer": "ipython3",
   "version": "3.12.4"
  }
 },
 "nbformat": 4,
 "nbformat_minor": 5
}
