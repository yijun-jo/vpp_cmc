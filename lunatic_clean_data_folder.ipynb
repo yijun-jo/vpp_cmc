{
 "cells": [
  {
   "cell_type": "markdown",
   "id": "2bf47088-23bf-4c17-b74b-9325f00eefe8",
   "metadata": {},
   "source": [
    "## Extract A280 and wavelength scan data from folder with lunatic reports\n",
    "\n",
    "* Code assumes the lunatic report contains both \"Concentration (mg/mL)\" and wavelength scanning results.\n",
    "* Please specify input and output folder paths before running the code.\n",
    "* Search keywords need to be specified as well in order to index output files. "
   ]
  },
  {
   "cell_type": "markdown",
   "id": "869ef51b-b77c-47bf-acbd-bed31eccf00f",
   "metadata": {},
   "source": [
    "## Prepare coding environment"
   ]
  },
  {
   "cell_type": "code",
   "execution_count": 3,
   "id": "662ce224-4672-40b0-99c9-8fbbc0106893",
   "metadata": {},
   "outputs": [],
   "source": [
    "import re\n",
    "import os\n",
    "import glob\n",
    "\n",
    "import numpy as np\n",
    "import pandas as pd"
   ]
  },
  {
   "cell_type": "markdown",
   "id": "017a9c55-ad9c-4ddc-8208-3639cdae69c8",
   "metadata": {},
   "source": [
    "## Prepare filepaths\n",
    "Specify input and output folder paths here. "
   ]
  },
  {
   "cell_type": "code",
   "execution_count": 5,
   "id": "77d17c08-d5cb-4841-aa62-8b0de9bf666b",
   "metadata": {},
   "outputs": [],
   "source": [
    "# Define the input folder path\n",
    "folder_path = './example_data'\n",
    "# Define the output folder path\n",
    "output_filepath = \"./output/\""
   ]
  },
  {
   "cell_type": "markdown",
   "id": "79260b71-1f51-43b9-aa0f-75f7b8461d4d",
   "metadata": {},
   "source": [
    "## Create functions to rename files, clean and extract data"
   ]
  },
  {
   "cell_type": "markdown",
   "id": "033e5eab-6e9e-42c4-b62f-c7a5215d48dd",
   "metadata": {},
   "source": [
    "Specify search keywords here to index output files."
   ]
  },
  {
   "cell_type": "code",
   "execution_count": 8,
   "id": "d70cddb9-e977-46a0-9856-5bc162090492",
   "metadata": {},
   "outputs": [],
   "source": [
    "# Find keywords in file names\n",
    "def rename_df (value):\n",
    "    def get_exp_details(value):\n",
    "        match = re.match(r\"^.*(pH)(.*)$\", value)\n",
    "        if match:\n",
    "            return \"\".join(match.groups())\n",
    "        else:\n",
    "            return \"N/A\"\n",
    "    \n",
    "    pH_plate = get_exp_details(value)\n",
    "    dataframe_name = pH_plate.replace(\" \", \"\").replace(\".\", \"\").replace(\"xlsx\", \"\").replace(\"plate\", \"_plate\")\n",
    "    return dataframe_name"
   ]
  },
  {
   "cell_type": "code",
   "execution_count": 9,
   "id": "20a4ddff-c1a6-462a-95e4-038532f35aed",
   "metadata": {},
   "outputs": [],
   "source": [
    "# Clean out metadata above \"Plate ID\" in column 1\n",
    "def clean_data (file_path):\n",
    "    df = pd.read_excel(file_path)\n",
    "    index = df[df['Report'].astype(str).str.contains('Plate ID', na=False)].index[0] # Find the index of the row where 'Plate ID' appears in column 1\n",
    "    filtered_df = df.loc[index:] # Filter out all rows above the found index\n",
    "    \n",
    "    # Use the first row as the header and drop it from the data\n",
    "    filtered_df.columns = filtered_df.iloc[0]  # Set the first row as the header\n",
    "    filtered_df = filtered_df.drop(index)          # Drop the first row now that it is used as the header\n",
    "    clean_df = filtered_df.reset_index(drop=True) # Reset the index to start from 0\n",
    "    return clean_df"
   ]
  },
  {
   "cell_type": "code",
   "execution_count": 10,
   "id": "d4a60881-4c94-42f0-ab21-afa86269ffb2",
   "metadata": {},
   "outputs": [],
   "source": [
    "# create a function to extract \"Concentration (mg/mL)\" from .csv files\n",
    "def extract_con(df):\n",
    "    # Extract columns 'Plate\\nPosition' and 'Concentration\\n(mg/ml)'\n",
    "    reseted_df = df[['Plate\\nPosition', 'Concentration\\n(mg/ml)']]\n",
    "    con_df = reseted_df.rename(columns={\n",
    "        'Plate\\nPosition': 'PlatePosition',\n",
    "        'Concentration\\n(mg/ml)': 'Concentration(mg/mL)',\n",
    "    })\n",
    "    \n",
    "    pd.set_option('future.no_silent_downcasting', True) # future-proof the code related to how panda handles downcasting\n",
    "    con_df = con_df.infer_objects(copy=False) # ensure the object columns are inferred correctly without silent downcasting\n",
    "    \n",
    "    con_df = con_df.fillna(\"N/A\")\n",
    "    \n",
    "    return con_df"
   ]
  },
  {
   "cell_type": "code",
   "execution_count": 11,
   "id": "4320c2f6-016e-45ee-a42e-c466af4c13d9",
   "metadata": {},
   "outputs": [],
   "source": [
    "# create a function to extract wavelength scanning data from column 11 to column 231\n",
    "def extract_scan (df):\n",
    "    scan_df = df.iloc[:, 10:231]  # Use 10 because slicing in Python excludes the endpoint\n",
    "    scan_df.columns = scan_df.columns.str.slice(1, 4) # Use the 2nd to 4th characters of each column name as the new header\n",
    "    scan_df = scan_df.apply(pd.to_numeric, errors='coerce') # make the entire dataframe numeric\n",
    "    scan_df = scan_df.fillna(\"N/A\")\n",
    "\n",
    "    # Extract column 2 (index 1)\n",
    "    plate_position = df.iloc[:, 1]\n",
    "\n",
    "    # Add column 2 to scan_df\n",
    "    scan_df = pd.concat([plate_position, scan_df], axis=1)\n",
    "    scan_df = scan_df.rename(columns={\n",
    "        'Plate\\nPosition': 'PlatePosition'\n",
    "    })\n",
    "    return scan_df"
   ]
  },
  {
   "cell_type": "markdown",
   "id": "e6a194bb-940e-4abd-b9fa-3de5e0fc6820",
   "metadata": {},
   "source": [
    "## Read files from folder, process and store data in an output folder"
   ]
  },
  {
   "cell_type": "markdown",
   "id": "4257b75e-4037-4fcf-9502-53c23de7f74c",
   "metadata": {},
   "source": [
    "**Create a list of file names from folder**"
   ]
  },
  {
   "cell_type": "code",
   "execution_count": 14,
   "id": "21f2adf7-e818-48bb-88b9-97ce7905ec85",
   "metadata": {},
   "outputs": [
    {
     "name": "stdout",
     "output_type": "stream",
     "text": [
      "./example_data/2024-10-31_122352_401285_DPD__Mumps_IL_PreFHN_AEX_screen1 pH 8.5 plate3.xlsx\n",
      "./example_data/2024-10-31_122352_401285_DPD__Mumps_IL_PreFHN_AEX_screen1 pH 8.5 plate2.xlsx\n",
      "./example_data/2024-10-31_122352_401285_DPD__Mumps_IL_PreFHN_AEX_screen1 pH 7.5 plate1.xlsx\n",
      "./example_data/2024-10-31_125129_401285_DPD__Mumps_IL_PreFHN_AEX_screen1 pH 6.5 plate3.xlsx\n",
      "./example_data/2024-10-31_122352_401285_DPD__Mumps_IL_PreFHN_AEX_screen1 pH 6.5 plate1.xlsx\n",
      "./example_data/2024-10-31_125129_401285_DPD__Mumps_IL_PreFHN_AEX_screen1 pH 6.5 plate2.xlsx\n",
      "./example_data/2024-10-31_122352_401285_DPD__Mumps_IL_PreFHN_AEX_screen1 pH 8.5 plate1.xlsx\n",
      "./example_data/2024-10-31_122352_401285_DPD__Mumps_IL_PreFHN_AEX_screen1 pH7.5_plate3.xlsx\n",
      "./example_data/2024-10-31_122352_401285_DPD__Mumps_IL_PreFHN_AEX_screen1 pH7.5_plate2.xlsx\n"
     ]
    }
   ],
   "source": [
    "# Use glob to find all Excel files in the folder\n",
    "excel_files = glob.glob(os.path.join(folder_path, '*.xls')) + glob.glob(os.path.join(folder_path, '*.xlsx'))\n",
    "\n",
    "# Print the file paths in the folder\n",
    "for file in excel_files:\n",
    "    print(file)"
   ]
  },
  {
   "cell_type": "markdown",
   "id": "5636a873-6edb-4bd4-b941-78d9c346b875",
   "metadata": {},
   "source": [
    "**Process each file and save the outputs to the specified output folder**"
   ]
  },
  {
   "cell_type": "code",
   "execution_count": 16,
   "id": "e0ab609c-715a-41d6-969e-27909d6b7cf7",
   "metadata": {},
   "outputs": [
    {
     "name": "stdout",
     "output_type": "stream",
     "text": [
      "pH85_plate3 data extraction successful!\n",
      "pH85_plate2 data extraction successful!\n",
      "pH75_plate1 data extraction successful!\n",
      "pH65_plate3 data extraction successful!\n",
      "pH65_plate1 data extraction successful!\n",
      "pH65_plate2 data extraction successful!\n",
      "pH85_plate1 data extraction successful!\n",
      "pH75__plate3 data extraction successful!\n",
      "pH75__plate2 data extraction successful!\n"
     ]
    }
   ],
   "source": [
    "# Excute functions for each files in the folder \n",
    "for file in excel_files:\n",
    "    df_name = rename_df (file)\n",
    "    clean_df = clean_data (file)\n",
    "    con_df = extract_con (clean_df)\n",
    "    scan_df = extract_scan (clean_df)\n",
    "    \n",
    "    # Specify output file saving path\n",
    "    scan_filepath = output_filepath + df_name + '(wavelength_scan).csv'\n",
    "    con_filepath = output_filepath + df_name + '(concentration).csv'\n",
    "\n",
    "    # Export data into .csv files\n",
    "    con_df.to_csv(con_filepath, index=False)\n",
    "    scan_df.to_csv(scan_filepath, index=False)\n",
    "\n",
    "    print (df_name + ' data extraction successful!')"
   ]
  }
 ],
 "metadata": {
  "kernelspec": {
   "display_name": "Python 3 (ipykernel)",
   "language": "python",
   "name": "python3"
  },
  "language_info": {
   "codemirror_mode": {
    "name": "ipython",
    "version": 3
   },
   "file_extension": ".py",
   "mimetype": "text/x-python",
   "name": "python",
   "nbconvert_exporter": "python",
   "pygments_lexer": "ipython3",
   "version": "3.12.4"
  }
 },
 "nbformat": 4,
 "nbformat_minor": 5
}
