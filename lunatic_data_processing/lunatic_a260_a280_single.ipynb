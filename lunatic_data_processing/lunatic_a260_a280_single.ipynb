{
 "cells": [
  {
   "cell_type": "markdown",
   "id": "d31d6b47-2187-442f-8682-6458e8075bf2",
   "metadata": {},
   "source": [
    "# Lunatic data extraction\n",
    "\n",
    "* Code assumes the lunatic report contains both \"Concentration (mg/mL)\" and wavelength scanning results.\n",
    "* Please specify input file path and output folder path before running the code. "
   ]
  },
  {
   "cell_type": "markdown",
   "id": "b5a7db11-39e2-4d15-a241-54edc6259bbe",
   "metadata": {},
   "source": [
    "## Prepare coding environment"
   ]
  },
  {
   "cell_type": "code",
   "execution_count": 25,
   "id": "2a3c653b-f0c5-4d99-8e34-eb5b08521ee1",
   "metadata": {},
   "outputs": [],
   "source": [
    "import pandas as pd"
   ]
  },
  {
   "cell_type": "markdown",
   "id": "3c9cc2cc-31f2-480c-a920-7fc14d1ea4c2",
   "metadata": {},
   "source": [
    "## Prepare filepaths"
   ]
  },
  {
   "cell_type": "code",
   "execution_count": 27,
   "id": "a98c7a18-5da8-4570-8196-836c95fb9db5",
   "metadata": {},
   "outputs": [],
   "source": [
    "# Input file path\n",
    "lunatic_report = './example/aex1_pH65 plate1.xlsx'\n",
    "\n",
    "# Establish file saving paths\n",
    "output_folder_path = './example/'\n",
    "filepath = output_folder_path + 'a260_a280.csv'"
   ]
  },
  {
   "cell_type": "markdown",
   "id": "8eb2ebcb-f62d-4129-9d94-6918dbf24ec4",
   "metadata": {},
   "source": [
    "## Clean data"
   ]
  },
  {
   "cell_type": "code",
   "execution_count": 29,
   "id": "4458aef9-2d52-4fd8-bf1b-e6e1eb663202",
   "metadata": {},
   "outputs": [],
   "source": [
    "df = pd.read_excel(lunatic_report)\n",
    "\n",
    "# Clean out metadata above \"Plate ID\" in column 1\n",
    "index = df[df['Report'].astype(str).str.contains('Plate ID', na=False)].index[0] # Find the index of the row where 'Plate ID' appears in column 1\n",
    "filtered_df = df.loc[index:] # Filter out all rows above the found index\n",
    "    \n",
    "# Use the first row as the header and drop it from the data\n",
    "filtered_df.columns = filtered_df.iloc[0]  # Set the first row as the header\n",
    "filtered_df = filtered_df.drop(index)          # Drop the first row now that it is used as the header\n",
    "filtered_df = filtered_df.reset_index(drop=True) # Reset the index to start from 0"
   ]
  },
  {
   "cell_type": "markdown",
   "id": "4f1fea91-3c95-4674-887d-54621a6d29fc",
   "metadata": {},
   "source": [
    "## Create functions to extract A260 and A280 data"
   ]
  },
  {
   "cell_type": "code",
   "execution_count": 31,
   "id": "ac625a91-da47-4cbe-96e6-54863e96357b",
   "metadata": {},
   "outputs": [],
   "source": [
    "# create a function to extract data from A260 and A280\n",
    "def extract_abs (df):\n",
    "    # Extract columns 'Plate\\nPosition', 'A260\\n(10mm)' and 'A280\\n(10mm)'\n",
    "    df = df[['Plate\\nPosition', 'A260\\n(10mm)', 'A280\\n(10mm)']]\n",
    "    abs_df = df.rename(columns={\n",
    "        'Plate\\nPosition': 'PlatePosition',\n",
    "        'A260\\n(10mm)': 'A260(10mm)',\n",
    "        'A280\\n(10mm)': 'A280(10mm)'\n",
    "    })\n",
    "    \n",
    "    pd.set_option('future.no_silent_downcasting', True) # future-proof the code related to how panda handles downcasting\n",
    "    abs_df = abs_df.infer_objects(copy=False) # ensure the object columns are inferred correctly without silent downcasting\n",
    "    \n",
    "    abs_df = abs_df.fillna(\"N/A\")\n",
    "\n",
    "    return abs_df"
   ]
  },
  {
   "cell_type": "markdown",
   "id": "b70acf2b-eee4-41c2-962a-e724893989f3",
   "metadata": {},
   "source": [
    "## Extract data"
   ]
  },
  {
   "cell_type": "code",
   "execution_count": 33,
   "id": "d99b3a6e-5d89-4cd9-aa57-0a05a3f0ea9d",
   "metadata": {},
   "outputs": [],
   "source": [
    "abs_df = extract_abs(filtered_df)"
   ]
  },
  {
   "cell_type": "markdown",
   "id": "ba113f44-95a3-467b-b872-c89052e39ffb",
   "metadata": {},
   "source": [
    "## Save dataframes to .csv"
   ]
  },
  {
   "cell_type": "code",
   "execution_count": 35,
   "id": "fa37dbed-26c1-4d76-8100-19fc0a2fcc26",
   "metadata": {},
   "outputs": [
    {
     "name": "stdout",
     "output_type": "stream",
     "text": [
      "Data extraction successful!\n"
     ]
    }
   ],
   "source": [
    "abs_df.to_csv(filepath, index=False)\n",
    "\n",
    "print ('Data extraction successful!')"
   ]
  }
 ],
 "metadata": {
  "kernelspec": {
   "display_name": "Python 3 (ipykernel)",
   "language": "python",
   "name": "python3"
  },
  "language_info": {
   "codemirror_mode": {
    "name": "ipython",
    "version": 3
   },
   "file_extension": ".py",
   "mimetype": "text/x-python",
   "name": "python",
   "nbconvert_exporter": "python",
   "pygments_lexer": "ipython3",
   "version": "3.12.4"
  }
 },
 "nbformat": 4,
 "nbformat_minor": 5
}
